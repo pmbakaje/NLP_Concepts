{
 "cells": [
  {
   "cell_type": "code",
   "execution_count": 4,
   "id": "b46af78c",
   "metadata": {},
   "outputs": [
    {
     "name": "stdout",
     "output_type": "stream",
     "text": [
      "Collecting gensim\n",
      "  Downloading gensim-4.3.1-cp39-cp39-win_amd64.whl (24.0 MB)\n",
      "Requirement already satisfied: numpy>=1.18.5 in c:\\users\\admin\\anaconda3\\lib\\site-packages (from gensim) (1.22.4)\n",
      "Collecting smart-open>=1.8.1\n",
      "  Downloading smart_open-6.3.0-py3-none-any.whl (56 kB)\n",
      "Requirement already satisfied: scipy>=1.7.0 in c:\\users\\admin\\anaconda3\\lib\\site-packages (from gensim) (1.7.1)\n",
      "Installing collected packages: smart-open, gensim\n",
      "Successfully installed gensim-4.3.1 smart-open-6.3.0\n",
      "Note: you may need to restart the kernel to use updated packages.\n"
     ]
    }
   ],
   "source": [
    "pip install -U gensim"
   ]
  },
  {
   "cell_type": "code",
   "execution_count": 1,
   "id": "1b589525",
   "metadata": {},
   "outputs": [],
   "source": [
    "import nltk\n",
    "import re\n",
    "from nltk.corpus import stopwords\n",
    "from gensim.models import Word2Vec"
   ]
  },
  {
   "cell_type": "code",
   "execution_count": 2,
   "id": "130ff56b",
   "metadata": {},
   "outputs": [],
   "source": [
    "paragraph = \"\"\"I have three visions for India.In 3000 years of our history, people from allover the world have come and invaded us, captured our lands, conquered our minds. From Alexander onwards. The Greeks, the Portuguese, the British, the French, the Dutch, all of them came and looted us, took over what was ours. Yet we have not done this to any other nation. We have not conquered anyone. We have not grabbed their land, their culture, their history tried to enforce our way of life on them. Why? Because we respect the freedom of others.That is why my first vision is that of FREEDOM.I believe that India got its first vision of this in 1857, when we started the war of independence. It is this freedom that we must protect and nurture and built on. If we are not free, no one will respect us.\n",
    "My second vision for India is DEVELOPMENT.\n",
    "For fifty years we have been a developing nation. It is time we see ourselves as a developed nation. We are among top 5 nations of the world in terms of GDP. We have 10 percent growth rate in most areas. Our poverty levels are falling, our achievements are being globally recognized today. Yet we lack the self-confidence to see ourselves as a developed nation, self reliant and self assured. Isn't this right?\n",
    "I have a third vision. The India must stand up to the world. Because I believe that unless India stands up to the world, no one will respect us. Only strength respects strength. We must be strong not only as a military power but also as an economic power. Both must go hand-in-hand.\n",
    "My good fortune was to have work with three great minds. Dr Vikram Sarabhai of the Dept. of space, Professor Satish Dhawan, who succeeded him, and Dr.Brahm Prakash, father of nuclear material. I was lucky to have worked with all three of them closely and consider this the great opportunity of my life.\n",
    "I see four milestones in my career\"\"\""
   ]
  },
  {
   "cell_type": "code",
   "execution_count": 5,
   "id": "07ee3162",
   "metadata": {},
   "outputs": [
    {
     "data": {
      "text/plain": [
       "\"I have three visions for India.In 3000 years of our history, people from allover the world have come and invaded us, captured our lands, conquered our minds. From Alexander onwards. The Greeks, the Portuguese, the British, the French, the Dutch, all of them came and looted us, took over what was ours. Yet we have not done this to any other nation. We have not conquered anyone. We have not grabbed their land, their culture, their history tried to enforce our way of life on them. Why? Because we respect the freedom of others.That is why my first vision is that of FREEDOM.I believe that India got its first vision of this in 1857, when we started the war of independence. It is this freedom that we must protect and nurture and built on. If we are not free, no one will respect us.\\nMy second vision for India is DEVELOPMENT.\\nFor fifty years we have been a developing nation. It is time we see ourselves as a developed nation. We are among top 5 nations of the world in terms of GDP. We have 10 percent growth rate in most areas. Our poverty levels are falling, our achievements are being globally recognized today. Yet we lack the self-confidence to see ourselves as a developed nation, self reliant and self assured. Isn't this right?\\nI have a third vision. The India must stand up to the world. Because I believe that unless India stands up to the world, no one will respect us. Only strength respects strength. We must be strong not only as a military power but also as an economic power. Both must go hand-in-hand.\\nMy good fortune was to have work with three great minds. Dr Vikram Sarabhai of the Dept. of space, Professor Satish Dhawan, who succeeded him, and Dr.Brahm Prakash, father of nuclear material. I was lucky to have worked with all three of them closely and consider this the great opportunity of my life.\\nI see four milestones in my career\""
      ]
     },
     "execution_count": 5,
     "metadata": {},
     "output_type": "execute_result"
    }
   ],
   "source": [
    "paragraph"
   ]
  },
  {
   "cell_type": "code",
   "execution_count": null,
   "id": "5e9a70d5",
   "metadata": {},
   "outputs": [],
   "source": [
    "## Preprocessing data"
   ]
  },
  {
   "cell_type": "code",
   "execution_count": 3,
   "id": "9deafb34",
   "metadata": {},
   "outputs": [],
   "source": [
    "text=re.sub(r'\\[[0-9]*\\]',' ',paragraph) ##This matches any digit between 0 and 9, and the * quantifier allows for zero or more occurrences of digits."
   ]
  },
  {
   "cell_type": "code",
   "execution_count": 4,
   "id": "89bccfb3",
   "metadata": {},
   "outputs": [
    {
     "data": {
      "text/plain": [
       "\"I have three visions for India.In 3000 years of our history, people from allover the world have come and invaded us, captured our lands, conquered our minds. From Alexander onwards. The Greeks, the Portuguese, the British, the French, the Dutch, all of them came and looted us, took over what was ours. Yet we have not done this to any other nation. We have not conquered anyone. We have not grabbed their land, their culture, their history tried to enforce our way of life on them. Why? Because we respect the freedom of others.That is why my first vision is that of FREEDOM.I believe that India got its first vision of this in 1857, when we started the war of independence. It is this freedom that we must protect and nurture and built on. If we are not free, no one will respect us.\\nMy second vision for India is DEVELOPMENT.\\nFor fifty years we have been a developing nation. It is time we see ourselves as a developed nation. We are among top 5 nations of the world in terms of GDP. We have 10 percent growth rate in most areas. Our poverty levels are falling, our achievements are being globally recognized today. Yet we lack the self-confidence to see ourselves as a developed nation, self reliant and self assured. Isn't this right?\\nI have a third vision. The India must stand up to the world. Because I believe that unless India stands up to the world, no one will respect us. Only strength respects strength. We must be strong not only as a military power but also as an economic power. Both must go hand-in-hand.\\nMy good fortune was to have work with three great minds. Dr Vikram Sarabhai of the Dept. of space, Professor Satish Dhawan, who succeeded him, and Dr.Brahm Prakash, father of nuclear material. I was lucky to have worked with all three of them closely and consider this the great opportunity of my life.\\nI see four milestones in my career\""
      ]
     },
     "execution_count": 4,
     "metadata": {},
     "output_type": "execute_result"
    }
   ],
   "source": [
    "text"
   ]
  },
  {
   "cell_type": "code",
   "execution_count": 6,
   "id": "c998968a",
   "metadata": {},
   "outputs": [
    {
     "data": {
      "text/plain": [
       "\"I have three visions for India.In 3000 years of our history, people from allover the world have come and invaded us, captured our lands, conquered our minds. From Alexander onwards. The Greeks, the Portuguese, the British, the French, the Dutch, all of them came and looted us, took over what was ours. Yet we have not done this to any other nation. We have not conquered anyone. We have not grabbed their land, their culture, their history tried to enforce our way of life on them. Why? Because we respect the freedom of others.That is why my first vision is that of FREEDOM.I believe that India got its first vision of this in 1857, when we started the war of independence. It is this freedom that we must protect and nurture and built on. If we are not free, no one will respect us. My second vision for India is DEVELOPMENT. For fifty years we have been a developing nation. It is time we see ourselves as a developed nation. We are among top 5 nations of the world in terms of GDP. We have 10 percent growth rate in most areas. Our poverty levels are falling, our achievements are being globally recognized today. Yet we lack the self-confidence to see ourselves as a developed nation, self reliant and self assured. Isn't this right? I have a third vision. The India must stand up to the world. Because I believe that unless India stands up to the world, no one will respect us. Only strength respects strength. We must be strong not only as a military power but also as an economic power. Both must go hand-in-hand. My good fortune was to have work with three great minds. Dr Vikram Sarabhai of the Dept. of space, Professor Satish Dhawan, who succeeded him, and Dr.Brahm Prakash, father of nuclear material. I was lucky to have worked with all three of them closely and consider this the great opportunity of my life. I see four milestones in my career\""
      ]
     },
     "execution_count": 6,
     "metadata": {},
     "output_type": "execute_result"
    }
   ],
   "source": [
    "text = re.sub(r'\\s+',' ',text)  ##This matches any whitespace character, including spaces, tabs, and line breaks\n",
    "text"
   ]
  },
  {
   "cell_type": "code",
   "execution_count": 7,
   "id": "407a6c95",
   "metadata": {},
   "outputs": [
    {
     "data": {
      "text/plain": [
       "\"i have three visions for india.in 3000 years of our history, people from allover the world have come and invaded us, captured our lands, conquered our minds. from alexander onwards. the greeks, the portuguese, the british, the french, the dutch, all of them came and looted us, took over what was ours. yet we have not done this to any other nation. we have not conquered anyone. we have not grabbed their land, their culture, their history tried to enforce our way of life on them. why? because we respect the freedom of others.that is why my first vision is that of freedom.i believe that india got its first vision of this in 1857, when we started the war of independence. it is this freedom that we must protect and nurture and built on. if we are not free, no one will respect us. my second vision for india is development. for fifty years we have been a developing nation. it is time we see ourselves as a developed nation. we are among top 5 nations of the world in terms of gdp. we have 10 percent growth rate in most areas. our poverty levels are falling, our achievements are being globally recognized today. yet we lack the self-confidence to see ourselves as a developed nation, self reliant and self assured. isn't this right? i have a third vision. the india must stand up to the world. because i believe that unless india stands up to the world, no one will respect us. only strength respects strength. we must be strong not only as a military power but also as an economic power. both must go hand-in-hand. my good fortune was to have work with three great minds. dr vikram sarabhai of the dept. of space, professor satish dhawan, who succeeded him, and dr.brahm prakash, father of nuclear material. i was lucky to have worked with all three of them closely and consider this the great opportunity of my life. i see four milestones in my career\""
      ]
     },
     "execution_count": 7,
     "metadata": {},
     "output_type": "execute_result"
    }
   ],
   "source": [
    "text = text.lower()\n",
    "text"
   ]
  },
  {
   "cell_type": "code",
   "execution_count": 8,
   "id": "88fd160c",
   "metadata": {},
   "outputs": [
    {
     "data": {
      "text/plain": [
       "\"i have three visions for india.in      years of our history, people from allover the world have come and invaded us, captured our lands, conquered our minds. from alexander onwards. the greeks, the portuguese, the british, the french, the dutch, all of them came and looted us, took over what was ours. yet we have not done this to any other nation. we have not conquered anyone. we have not grabbed their land, their culture, their history tried to enforce our way of life on them. why? because we respect the freedom of others.that is why my first vision is that of freedom.i believe that india got its first vision of this in     , when we started the war of independence. it is this freedom that we must protect and nurture and built on. if we are not free, no one will respect us. my second vision for india is development. for fifty years we have been a developing nation. it is time we see ourselves as a developed nation. we are among top   nations of the world in terms of gdp. we have    percent growth rate in most areas. our poverty levels are falling, our achievements are being globally recognized today. yet we lack the self-confidence to see ourselves as a developed nation, self reliant and self assured. isn't this right? i have a third vision. the india must stand up to the world. because i believe that unless india stands up to the world, no one will respect us. only strength respects strength. we must be strong not only as a military power but also as an economic power. both must go hand-in-hand. my good fortune was to have work with three great minds. dr vikram sarabhai of the dept. of space, professor satish dhawan, who succeeded him, and dr.brahm prakash, father of nuclear material. i was lucky to have worked with all three of them closely and consider this the great opportunity of my life. i see four milestones in my career\""
      ]
     },
     "execution_count": 8,
     "metadata": {},
     "output_type": "execute_result"
    }
   ],
   "source": [
    "text = re.sub(r'\\d',' ',text)  ## digit removel(\\d: This matches any digit character (0-9))\n",
    "text  "
   ]
  },
  {
   "cell_type": "code",
   "execution_count": 9,
   "id": "c3a7c6fd",
   "metadata": {},
   "outputs": [
    {
     "data": {
      "text/plain": [
       "\"i have three visions for india.in years of our history, people from allover the world have come and invaded us, captured our lands, conquered our minds. from alexander onwards. the greeks, the portuguese, the british, the french, the dutch, all of them came and looted us, took over what was ours. yet we have not done this to any other nation. we have not conquered anyone. we have not grabbed their land, their culture, their history tried to enforce our way of life on them. why? because we respect the freedom of others.that is why my first vision is that of freedom.i believe that india got its first vision of this in , when we started the war of independence. it is this freedom that we must protect and nurture and built on. if we are not free, no one will respect us. my second vision for india is development. for fifty years we have been a developing nation. it is time we see ourselves as a developed nation. we are among top nations of the world in terms of gdp. we have percent growth rate in most areas. our poverty levels are falling, our achievements are being globally recognized today. yet we lack the self-confidence to see ourselves as a developed nation, self reliant and self assured. isn't this right? i have a third vision. the india must stand up to the world. because i believe that unless india stands up to the world, no one will respect us. only strength respects strength. we must be strong not only as a military power but also as an economic power. both must go hand-in-hand. my good fortune was to have work with three great minds. dr vikram sarabhai of the dept. of space, professor satish dhawan, who succeeded him, and dr.brahm prakash, father of nuclear material. i was lucky to have worked with all three of them closely and consider this the great opportunity of my life. i see four milestones in my career\""
      ]
     },
     "execution_count": 9,
     "metadata": {},
     "output_type": "execute_result"
    }
   ],
   "source": [
    "text = re.sub(r'\\s+',' ',text)\n",
    "text"
   ]
  },
  {
   "cell_type": "code",
   "execution_count": null,
   "id": "393f5d80",
   "metadata": {},
   "outputs": [],
   "source": [
    "## Preparing dataset"
   ]
  },
  {
   "cell_type": "code",
   "execution_count": 10,
   "id": "f439058a",
   "metadata": {},
   "outputs": [
    {
     "data": {
      "text/plain": [
       "['i have three visions for india.in years of our history, people from allover the world have come and invaded us, captured our lands, conquered our minds.',\n",
       " 'from alexander onwards.',\n",
       " 'the greeks, the portuguese, the british, the french, the dutch, all of them came and looted us, took over what was ours.',\n",
       " 'yet we have not done this to any other nation.',\n",
       " 'we have not conquered anyone.',\n",
       " 'we have not grabbed their land, their culture, their history tried to enforce our way of life on them.',\n",
       " 'why?',\n",
       " 'because we respect the freedom of others.that is why my first vision is that of freedom.i believe that india got its first vision of this in , when we started the war of independence.',\n",
       " 'it is this freedom that we must protect and nurture and built on.',\n",
       " 'if we are not free, no one will respect us.',\n",
       " 'my second vision for india is development.',\n",
       " 'for fifty years we have been a developing nation.',\n",
       " 'it is time we see ourselves as a developed nation.',\n",
       " 'we are among top nations of the world in terms of gdp.',\n",
       " 'we have percent growth rate in most areas.',\n",
       " 'our poverty levels are falling, our achievements are being globally recognized today.',\n",
       " 'yet we lack the self-confidence to see ourselves as a developed nation, self reliant and self assured.',\n",
       " \"isn't this right?\",\n",
       " 'i have a third vision.',\n",
       " 'the india must stand up to the world.',\n",
       " 'because i believe that unless india stands up to the world, no one will respect us.',\n",
       " 'only strength respects strength.',\n",
       " 'we must be strong not only as a military power but also as an economic power.',\n",
       " 'both must go hand-in-hand.',\n",
       " 'my good fortune was to have work with three great minds.',\n",
       " 'dr vikram sarabhai of the dept.',\n",
       " 'of space, professor satish dhawan, who succeeded him, and dr.brahm prakash, father of nuclear material.',\n",
       " 'i was lucky to have worked with all three of them closely and consider this the great opportunity of my life.',\n",
       " 'i see four milestones in my career']"
      ]
     },
     "execution_count": 10,
     "metadata": {},
     "output_type": "execute_result"
    }
   ],
   "source": [
    "sentences = nltk.sent_tokenize(text)\n",
    "sentences"
   ]
  },
  {
   "cell_type": "code",
   "execution_count": 11,
   "id": "9d6cb8d3",
   "metadata": {},
   "outputs": [
    {
     "data": {
      "text/plain": [
       "[['i',\n",
       "  'have',\n",
       "  'three',\n",
       "  'visions',\n",
       "  'for',\n",
       "  'india.in',\n",
       "  'years',\n",
       "  'of',\n",
       "  'our',\n",
       "  'history',\n",
       "  ',',\n",
       "  'people',\n",
       "  'from',\n",
       "  'allover',\n",
       "  'the',\n",
       "  'world',\n",
       "  'have',\n",
       "  'come',\n",
       "  'and',\n",
       "  'invaded',\n",
       "  'us',\n",
       "  ',',\n",
       "  'captured',\n",
       "  'our',\n",
       "  'lands',\n",
       "  ',',\n",
       "  'conquered',\n",
       "  'our',\n",
       "  'minds',\n",
       "  '.'],\n",
       " ['from', 'alexander', 'onwards', '.'],\n",
       " ['the',\n",
       "  'greeks',\n",
       "  ',',\n",
       "  'the',\n",
       "  'portuguese',\n",
       "  ',',\n",
       "  'the',\n",
       "  'british',\n",
       "  ',',\n",
       "  'the',\n",
       "  'french',\n",
       "  ',',\n",
       "  'the',\n",
       "  'dutch',\n",
       "  ',',\n",
       "  'all',\n",
       "  'of',\n",
       "  'them',\n",
       "  'came',\n",
       "  'and',\n",
       "  'looted',\n",
       "  'us',\n",
       "  ',',\n",
       "  'took',\n",
       "  'over',\n",
       "  'what',\n",
       "  'was',\n",
       "  'ours',\n",
       "  '.'],\n",
       " ['yet',\n",
       "  'we',\n",
       "  'have',\n",
       "  'not',\n",
       "  'done',\n",
       "  'this',\n",
       "  'to',\n",
       "  'any',\n",
       "  'other',\n",
       "  'nation',\n",
       "  '.'],\n",
       " ['we', 'have', 'not', 'conquered', 'anyone', '.'],\n",
       " ['we',\n",
       "  'have',\n",
       "  'not',\n",
       "  'grabbed',\n",
       "  'their',\n",
       "  'land',\n",
       "  ',',\n",
       "  'their',\n",
       "  'culture',\n",
       "  ',',\n",
       "  'their',\n",
       "  'history',\n",
       "  'tried',\n",
       "  'to',\n",
       "  'enforce',\n",
       "  'our',\n",
       "  'way',\n",
       "  'of',\n",
       "  'life',\n",
       "  'on',\n",
       "  'them',\n",
       "  '.'],\n",
       " ['why', '?'],\n",
       " ['because',\n",
       "  'we',\n",
       "  'respect',\n",
       "  'the',\n",
       "  'freedom',\n",
       "  'of',\n",
       "  'others.that',\n",
       "  'is',\n",
       "  'why',\n",
       "  'my',\n",
       "  'first',\n",
       "  'vision',\n",
       "  'is',\n",
       "  'that',\n",
       "  'of',\n",
       "  'freedom.i',\n",
       "  'believe',\n",
       "  'that',\n",
       "  'india',\n",
       "  'got',\n",
       "  'its',\n",
       "  'first',\n",
       "  'vision',\n",
       "  'of',\n",
       "  'this',\n",
       "  'in',\n",
       "  ',',\n",
       "  'when',\n",
       "  'we',\n",
       "  'started',\n",
       "  'the',\n",
       "  'war',\n",
       "  'of',\n",
       "  'independence',\n",
       "  '.'],\n",
       " ['it',\n",
       "  'is',\n",
       "  'this',\n",
       "  'freedom',\n",
       "  'that',\n",
       "  'we',\n",
       "  'must',\n",
       "  'protect',\n",
       "  'and',\n",
       "  'nurture',\n",
       "  'and',\n",
       "  'built',\n",
       "  'on',\n",
       "  '.'],\n",
       " ['if',\n",
       "  'we',\n",
       "  'are',\n",
       "  'not',\n",
       "  'free',\n",
       "  ',',\n",
       "  'no',\n",
       "  'one',\n",
       "  'will',\n",
       "  'respect',\n",
       "  'us',\n",
       "  '.'],\n",
       " ['my', 'second', 'vision', 'for', 'india', 'is', 'development', '.'],\n",
       " ['for',\n",
       "  'fifty',\n",
       "  'years',\n",
       "  'we',\n",
       "  'have',\n",
       "  'been',\n",
       "  'a',\n",
       "  'developing',\n",
       "  'nation',\n",
       "  '.'],\n",
       " ['it',\n",
       "  'is',\n",
       "  'time',\n",
       "  'we',\n",
       "  'see',\n",
       "  'ourselves',\n",
       "  'as',\n",
       "  'a',\n",
       "  'developed',\n",
       "  'nation',\n",
       "  '.'],\n",
       " ['we',\n",
       "  'are',\n",
       "  'among',\n",
       "  'top',\n",
       "  'nations',\n",
       "  'of',\n",
       "  'the',\n",
       "  'world',\n",
       "  'in',\n",
       "  'terms',\n",
       "  'of',\n",
       "  'gdp',\n",
       "  '.'],\n",
       " ['we', 'have', 'percent', 'growth', 'rate', 'in', 'most', 'areas', '.'],\n",
       " ['our',\n",
       "  'poverty',\n",
       "  'levels',\n",
       "  'are',\n",
       "  'falling',\n",
       "  ',',\n",
       "  'our',\n",
       "  'achievements',\n",
       "  'are',\n",
       "  'being',\n",
       "  'globally',\n",
       "  'recognized',\n",
       "  'today',\n",
       "  '.'],\n",
       " ['yet',\n",
       "  'we',\n",
       "  'lack',\n",
       "  'the',\n",
       "  'self-confidence',\n",
       "  'to',\n",
       "  'see',\n",
       "  'ourselves',\n",
       "  'as',\n",
       "  'a',\n",
       "  'developed',\n",
       "  'nation',\n",
       "  ',',\n",
       "  'self',\n",
       "  'reliant',\n",
       "  'and',\n",
       "  'self',\n",
       "  'assured',\n",
       "  '.'],\n",
       " ['is', \"n't\", 'this', 'right', '?'],\n",
       " ['i', 'have', 'a', 'third', 'vision', '.'],\n",
       " ['the', 'india', 'must', 'stand', 'up', 'to', 'the', 'world', '.'],\n",
       " ['because',\n",
       "  'i',\n",
       "  'believe',\n",
       "  'that',\n",
       "  'unless',\n",
       "  'india',\n",
       "  'stands',\n",
       "  'up',\n",
       "  'to',\n",
       "  'the',\n",
       "  'world',\n",
       "  ',',\n",
       "  'no',\n",
       "  'one',\n",
       "  'will',\n",
       "  'respect',\n",
       "  'us',\n",
       "  '.'],\n",
       " ['only', 'strength', 'respects', 'strength', '.'],\n",
       " ['we',\n",
       "  'must',\n",
       "  'be',\n",
       "  'strong',\n",
       "  'not',\n",
       "  'only',\n",
       "  'as',\n",
       "  'a',\n",
       "  'military',\n",
       "  'power',\n",
       "  'but',\n",
       "  'also',\n",
       "  'as',\n",
       "  'an',\n",
       "  'economic',\n",
       "  'power',\n",
       "  '.'],\n",
       " ['both', 'must', 'go', 'hand-in-hand', '.'],\n",
       " ['my',\n",
       "  'good',\n",
       "  'fortune',\n",
       "  'was',\n",
       "  'to',\n",
       "  'have',\n",
       "  'work',\n",
       "  'with',\n",
       "  'three',\n",
       "  'great',\n",
       "  'minds',\n",
       "  '.'],\n",
       " ['dr', 'vikram', 'sarabhai', 'of', 'the', 'dept', '.'],\n",
       " ['of',\n",
       "  'space',\n",
       "  ',',\n",
       "  'professor',\n",
       "  'satish',\n",
       "  'dhawan',\n",
       "  ',',\n",
       "  'who',\n",
       "  'succeeded',\n",
       "  'him',\n",
       "  ',',\n",
       "  'and',\n",
       "  'dr.brahm',\n",
       "  'prakash',\n",
       "  ',',\n",
       "  'father',\n",
       "  'of',\n",
       "  'nuclear',\n",
       "  'material',\n",
       "  '.'],\n",
       " ['i',\n",
       "  'was',\n",
       "  'lucky',\n",
       "  'to',\n",
       "  'have',\n",
       "  'worked',\n",
       "  'with',\n",
       "  'all',\n",
       "  'three',\n",
       "  'of',\n",
       "  'them',\n",
       "  'closely',\n",
       "  'and',\n",
       "  'consider',\n",
       "  'this',\n",
       "  'the',\n",
       "  'great',\n",
       "  'opportunity',\n",
       "  'of',\n",
       "  'my',\n",
       "  'life',\n",
       "  '.'],\n",
       " ['i', 'see', 'four', 'milestones', 'in', 'my', 'career']]"
      ]
     },
     "execution_count": 11,
     "metadata": {},
     "output_type": "execute_result"
    }
   ],
   "source": [
    "sentences = [nltk.word_tokenize(sentence) for sentence in sentences]\n",
    "sentences"
   ]
  },
  {
   "cell_type": "code",
   "execution_count": 12,
   "id": "986d6e6e",
   "metadata": {},
   "outputs": [
    {
     "data": {
      "text/plain": [
       "29"
      ]
     },
     "execution_count": 12,
     "metadata": {},
     "output_type": "execute_result"
    }
   ],
   "source": [
    "len(sentences)"
   ]
  },
  {
   "cell_type": "code",
   "execution_count": 13,
   "id": "9d22b21c",
   "metadata": {},
   "outputs": [],
   "source": [
    "for i in range(len(sentences)):\n",
    "    sentences[i] = [word for word in sentences[i] if word not in stopwords.words('english')]"
   ]
  },
  {
   "cell_type": "code",
   "execution_count": 14,
   "id": "cdf7f966",
   "metadata": {},
   "outputs": [
    {
     "data": {
      "text/plain": [
       "[['three',\n",
       "  'visions',\n",
       "  'india.in',\n",
       "  'years',\n",
       "  'history',\n",
       "  ',',\n",
       "  'people',\n",
       "  'allover',\n",
       "  'world',\n",
       "  'come',\n",
       "  'invaded',\n",
       "  'us',\n",
       "  ',',\n",
       "  'captured',\n",
       "  'lands',\n",
       "  ',',\n",
       "  'conquered',\n",
       "  'minds',\n",
       "  '.'],\n",
       " ['alexander', 'onwards', '.'],\n",
       " ['greeks',\n",
       "  ',',\n",
       "  'portuguese',\n",
       "  ',',\n",
       "  'british',\n",
       "  ',',\n",
       "  'french',\n",
       "  ',',\n",
       "  'dutch',\n",
       "  ',',\n",
       "  'came',\n",
       "  'looted',\n",
       "  'us',\n",
       "  ',',\n",
       "  'took',\n",
       "  '.'],\n",
       " ['yet', 'done', 'nation', '.'],\n",
       " ['conquered', 'anyone', '.'],\n",
       " ['grabbed',\n",
       "  'land',\n",
       "  ',',\n",
       "  'culture',\n",
       "  ',',\n",
       "  'history',\n",
       "  'tried',\n",
       "  'enforce',\n",
       "  'way',\n",
       "  'life',\n",
       "  '.'],\n",
       " ['?'],\n",
       " ['respect',\n",
       "  'freedom',\n",
       "  'others.that',\n",
       "  'first',\n",
       "  'vision',\n",
       "  'freedom.i',\n",
       "  'believe',\n",
       "  'india',\n",
       "  'got',\n",
       "  'first',\n",
       "  'vision',\n",
       "  ',',\n",
       "  'started',\n",
       "  'war',\n",
       "  'independence',\n",
       "  '.'],\n",
       " ['freedom', 'must', 'protect', 'nurture', 'built', '.'],\n",
       " ['free', ',', 'one', 'respect', 'us', '.'],\n",
       " ['second', 'vision', 'india', 'development', '.'],\n",
       " ['fifty', 'years', 'developing', 'nation', '.'],\n",
       " ['time', 'see', 'developed', 'nation', '.'],\n",
       " ['among', 'top', 'nations', 'world', 'terms', 'gdp', '.'],\n",
       " ['percent', 'growth', 'rate', 'areas', '.'],\n",
       " ['poverty',\n",
       "  'levels',\n",
       "  'falling',\n",
       "  ',',\n",
       "  'achievements',\n",
       "  'globally',\n",
       "  'recognized',\n",
       "  'today',\n",
       "  '.'],\n",
       " ['yet',\n",
       "  'lack',\n",
       "  'self-confidence',\n",
       "  'see',\n",
       "  'developed',\n",
       "  'nation',\n",
       "  ',',\n",
       "  'self',\n",
       "  'reliant',\n",
       "  'self',\n",
       "  'assured',\n",
       "  '.'],\n",
       " [\"n't\", 'right', '?'],\n",
       " ['third', 'vision', '.'],\n",
       " ['india', 'must', 'stand', 'world', '.'],\n",
       " ['believe',\n",
       "  'unless',\n",
       "  'india',\n",
       "  'stands',\n",
       "  'world',\n",
       "  ',',\n",
       "  'one',\n",
       "  'respect',\n",
       "  'us',\n",
       "  '.'],\n",
       " ['strength', 'respects', 'strength', '.'],\n",
       " ['must', 'strong', 'military', 'power', 'also', 'economic', 'power', '.'],\n",
       " ['must', 'go', 'hand-in-hand', '.'],\n",
       " ['good', 'fortune', 'work', 'three', 'great', 'minds', '.'],\n",
       " ['dr', 'vikram', 'sarabhai', 'dept', '.'],\n",
       " ['space',\n",
       "  ',',\n",
       "  'professor',\n",
       "  'satish',\n",
       "  'dhawan',\n",
       "  ',',\n",
       "  'succeeded',\n",
       "  ',',\n",
       "  'dr.brahm',\n",
       "  'prakash',\n",
       "  ',',\n",
       "  'father',\n",
       "  'nuclear',\n",
       "  'material',\n",
       "  '.'],\n",
       " ['lucky',\n",
       "  'worked',\n",
       "  'three',\n",
       "  'closely',\n",
       "  'consider',\n",
       "  'great',\n",
       "  'opportunity',\n",
       "  'life',\n",
       "  '.'],\n",
       " ['see', 'four', 'milestones', 'career']]"
      ]
     },
     "execution_count": 14,
     "metadata": {},
     "output_type": "execute_result"
    }
   ],
   "source": [
    "sentences"
   ]
  },
  {
   "cell_type": "code",
   "execution_count": 15,
   "id": "62389623",
   "metadata": {},
   "outputs": [
    {
     "data": {
      "text/plain": [
       "29"
      ]
     },
     "execution_count": 15,
     "metadata": {},
     "output_type": "execute_result"
    }
   ],
   "source": [
    "len(sentences)"
   ]
  },
  {
   "cell_type": "code",
   "execution_count": 16,
   "id": "3fd7dfd2",
   "metadata": {},
   "outputs": [],
   "source": [
    "## Word2Vec"
   ]
  },
  {
   "cell_type": "code",
   "execution_count": 18,
   "id": "2d2fb914",
   "metadata": {},
   "outputs": [
    {
     "data": {
      "text/plain": [
       "<gensim.models.word2vec.Word2Vec at 0x23d9280c700>"
      ]
     },
     "execution_count": 18,
     "metadata": {},
     "output_type": "execute_result"
    }
   ],
   "source": [
    "model = Word2Vec(sentences, min_count=1) ## if word contain less than one then we are ignoring that word\n",
    "model"
   ]
  },
  {
   "cell_type": "code",
   "execution_count": 28,
   "id": "b4e56801",
   "metadata": {},
   "outputs": [
    {
     "data": {
      "text/plain": [
       "['.',\n",
       " ',',\n",
       " 'must',\n",
       " 'world',\n",
       " 'us',\n",
       " 'nation',\n",
       " 'vision',\n",
       " 'india',\n",
       " 'see',\n",
       " 'respect',\n",
       " 'three',\n",
       " 'minds',\n",
       " 'developed',\n",
       " 'strength',\n",
       " 'power',\n",
       " 'first',\n",
       " '?',\n",
       " 'conquered',\n",
       " 'life',\n",
       " 'believe',\n",
       " 'great',\n",
       " 'yet',\n",
       " 'history',\n",
       " 'years',\n",
       " 'self',\n",
       " 'one',\n",
       " 'freedom',\n",
       " 'enforce',\n",
       " 'lucky',\n",
       " 'tried',\n",
       " 'culture',\n",
       " 'way',\n",
       " 'land',\n",
       " 'prakash',\n",
       " 'others.that',\n",
       " 'anyone',\n",
       " 'material',\n",
       " 'freedom.i',\n",
       " 'nuclear',\n",
       " 'got',\n",
       " 'started',\n",
       " 'war',\n",
       " 'independence',\n",
       " 'father',\n",
       " 'grabbed',\n",
       " 'took',\n",
       " 'worked',\n",
       " 'lands',\n",
       " 'visions',\n",
       " 'india.in',\n",
       " 'four',\n",
       " 'people',\n",
       " 'allover',\n",
       " 'opportunity',\n",
       " 'come',\n",
       " 'invaded',\n",
       " 'consider',\n",
       " 'captured',\n",
       " 'closely',\n",
       " 'done',\n",
       " 'alexander',\n",
       " 'onwards',\n",
       " 'greeks',\n",
       " 'portuguese',\n",
       " 'british',\n",
       " 'french',\n",
       " 'dutch',\n",
       " 'came',\n",
       " 'looted',\n",
       " 'nurture',\n",
       " 'protect',\n",
       " 'second',\n",
       " 'built',\n",
       " 'hand-in-hand',\n",
       " 'right',\n",
       " 'third',\n",
       " 'stand',\n",
       " 'unless',\n",
       " 'stands',\n",
       " 'respects',\n",
       " 'strong',\n",
       " 'military',\n",
       " 'also',\n",
       " 'economic',\n",
       " 'go',\n",
       " 'good',\n",
       " 'free',\n",
       " 'fortune',\n",
       " 'work',\n",
       " 'dr',\n",
       " 'vikram',\n",
       " 'sarabhai',\n",
       " 'dept',\n",
       " 'space',\n",
       " 'professor',\n",
       " 'satish',\n",
       " 'dhawan',\n",
       " 'succeeded',\n",
       " \"n't\",\n",
       " 'assured',\n",
       " 'reliant',\n",
       " 'self-confidence',\n",
       " 'dr.brahm',\n",
       " 'development',\n",
       " 'fifty',\n",
       " 'developing',\n",
       " 'time',\n",
       " 'milestones',\n",
       " 'among',\n",
       " 'top',\n",
       " 'nations',\n",
       " 'terms',\n",
       " 'gdp',\n",
       " 'percent',\n",
       " 'growth',\n",
       " 'rate',\n",
       " 'areas',\n",
       " 'poverty',\n",
       " 'levels',\n",
       " 'falling',\n",
       " 'achievements',\n",
       " 'globally',\n",
       " 'recognized',\n",
       " 'today',\n",
       " 'lack',\n",
       " 'career']"
      ]
     },
     "execution_count": 28,
     "metadata": {},
     "output_type": "execute_result"
    }
   ],
   "source": [
    "## finding word vector\n",
    "words = model.wv.index_to_key\n",
    "words"
   ]
  },
  {
   "cell_type": "code",
   "execution_count": 31,
   "id": "7213b4cf",
   "metadata": {},
   "outputs": [
    {
     "data": {
      "text/plain": [
       "array([-6.4635500e-03,  8.9102723e-03, -1.5414872e-03, -8.2376245e-03,\n",
       "        7.9999436e-03, -3.0113906e-03, -1.3366089e-03, -5.9864641e-04,\n",
       "        2.7845767e-03, -4.6897428e-03, -2.7060579e-04, -2.9154562e-03,\n",
       "        8.7638618e-03,  6.9337515e-03,  1.1358991e-03, -6.0622785e-03,\n",
       "        3.0860002e-03,  1.0697400e-03, -6.1657866e-03, -5.8448948e-03,\n",
       "       -3.0514044e-03,  2.4139422e-03, -8.1197005e-03, -4.9943076e-03,\n",
       "        8.0938395e-03, -3.6640652e-03,  7.9303291e-03,  5.2822358e-04,\n",
       "       -5.5783102e-03, -4.9365894e-03, -1.6114593e-04,  4.5517567e-03,\n",
       "       -5.9763924e-03, -5.5591920e-03, -6.8165879e-03,  6.8148929e-03,\n",
       "       -2.4203195e-03,  3.9732102e-03, -1.6606359e-03, -7.4730529e-03,\n",
       "       -1.2500475e-03,  3.1737023e-04,  3.5718123e-03, -8.6222719e-03,\n",
       "       -6.7852205e-03, -6.5516927e-03,  2.9774713e-03, -3.7787377e-03,\n",
       "        9.8686432e-04,  4.2131478e-03,  4.5731156e-03,  2.3655696e-03,\n",
       "       -2.9076564e-03,  6.4533739e-04, -5.3525935e-03, -6.3550440e-03,\n",
       "        8.7687168e-03, -4.0439768e-03, -9.3829585e-03,  3.7181566e-03,\n",
       "        8.4242243e-03, -1.6534104e-04,  2.2081686e-03, -3.5358146e-03,\n",
       "       -4.2468188e-03, -8.5248789e-03, -7.7726273e-03, -9.0217963e-03,\n",
       "       -6.0038264e-03,  8.6078811e-03,  9.3623679e-03, -1.6953314e-03,\n",
       "        3.7009937e-05,  7.8281714e-03,  1.3372559e-03, -5.1637832e-03,\n",
       "        2.6238211e-03,  1.8606246e-03, -3.7083691e-03, -4.8909257e-03,\n",
       "        9.6012233e-03,  7.6728044e-03, -8.6750546e-03, -5.4423157e-03,\n",
       "        1.3608919e-03,  9.4199704e-04, -8.3299400e-03,  9.3810456e-03,\n",
       "       -5.3616781e-03,  4.6289349e-03,  9.2792911e-03,  1.0511985e-03,\n",
       "        4.2033382e-03, -2.7338967e-03, -9.6835773e-03,  6.4911885e-04,\n",
       "       -1.1243823e-03, -9.8958239e-03,  6.9673420e-03, -7.3894123e-03],\n",
       "      dtype=float32)"
      ]
     },
     "execution_count": 31,
     "metadata": {},
     "output_type": "execute_result"
    }
   ],
   "source": [
    "vector = model.wv['war']\n",
    "vector"
   ]
  },
  {
   "cell_type": "code",
   "execution_count": 29,
   "id": "5236aacd",
   "metadata": {},
   "outputs": [],
   "source": [
    "## most similar words\n",
    "similar = model.wv.most_similar('war')  ## based on paragraph"
   ]
  },
  {
   "cell_type": "code",
   "execution_count": 30,
   "id": "d5cc4bee",
   "metadata": {},
   "outputs": [
    {
     "data": {
      "text/plain": [
       "[('economic', 0.27760815620422363),\n",
       " ('must', 0.2128005474805832),\n",
       " ('built', 0.21257613599300385),\n",
       " ('work', 0.21191217005252838),\n",
       " ('achievements', 0.20515093207359314),\n",
       " ('levels', 0.192946657538414),\n",
       " ('self', 0.1921393871307373),\n",
       " ('unless', 0.1834288090467453),\n",
       " ('third', 0.1638987958431244),\n",
       " ('lucky', 0.14361369609832764)]"
      ]
     },
     "execution_count": 30,
     "metadata": {},
     "output_type": "execute_result"
    }
   ],
   "source": [
    "similar"
   ]
  },
  {
   "cell_type": "code",
   "execution_count": null,
   "id": "59a19749",
   "metadata": {},
   "outputs": [],
   "source": []
  },
  {
   "cell_type": "code",
   "execution_count": null,
   "id": "ff9573d5",
   "metadata": {},
   "outputs": [],
   "source": []
  },
  {
   "cell_type": "code",
   "execution_count": null,
   "id": "0432420d",
   "metadata": {},
   "outputs": [],
   "source": []
  }
 ],
 "metadata": {
  "kernelspec": {
   "display_name": "Python 3 (ipykernel)",
   "language": "python",
   "name": "python3"
  },
  "language_info": {
   "codemirror_mode": {
    "name": "ipython",
    "version": 3
   },
   "file_extension": ".py",
   "mimetype": "text/x-python",
   "name": "python",
   "nbconvert_exporter": "python",
   "pygments_lexer": "ipython3",
   "version": "3.9.7"
  }
 },
 "nbformat": 4,
 "nbformat_minor": 5
}
